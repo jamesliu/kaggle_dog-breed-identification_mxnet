{
 "cells": [
  {
   "cell_type": "code",
   "execution_count": 6,
   "metadata": {
    "ExecuteTime": {
     "end_time": "2017-12-16T22:06:50.560864Z",
     "start_time": "2017-12-16T22:06:50.535675Z"
    }
   },
   "outputs": [
    {
     "name": "stderr",
     "output_type": "stream",
     "text": [
      "ERROR:root:File `'../utils.ipynb.py'` not found.\n"
     ]
    }
   ],
   "source": [
    "import mxnet as mx\n",
    "from mxnet import autograd\n",
    "from mxnet import gluon\n",
    "from mxnet import image\n",
    "from mxnet import init\n",
    "from mxnet import nd\n",
    "from mxnet.gluon.data import vision\n",
    "from mxnet.gluon.model_zoo import vision as models\n",
    "import numpy as np\n",
    "import pandas as pd\n",
    "from tqdm import tqdm\n",
    "import cv2\n",
    "import h5py\n",
    "import os\n",
    "from time import time\n",
    "import matplotlib.pyplot as plt\n",
    "%run ../utils.ipynb\n",
    "\n",
    "#%matplotlib inline\n",
    "%config InlineBackend.figure_format = 'retina'\n",
    "\n",
    "ctx = [mx.gpu(i) for i in range(1)]\n",
    "#ctx = mx.gpu(0)"
   ]
  },
  {
   "cell_type": "code",
   "execution_count": 7,
   "metadata": {
    "ExecuteTime": {
     "end_time": "2017-12-16T22:06:53.901372Z",
     "start_time": "2017-12-16T22:06:53.898159Z"
    }
   },
   "outputs": [],
   "source": [
    "root_dir = \"/data/ai/data/kaggle_dog-breed-identification/\"\n",
    "data_dir = os.path.join(root_dir, \"data\")\n",
    "features_dir = os.path.join(root_dir, \"features\")\n"
   ]
  },
  {
   "cell_type": "code",
   "execution_count": 8,
   "metadata": {
    "ExecuteTime": {
     "end_time": "2017-12-16T22:06:54.502765Z",
     "start_time": "2017-12-16T22:06:54.482122Z"
    }
   },
   "outputs": [],
   "source": [
    "def get_mean_std(df): \n",
    "    for i, (fname, breed) in tqdm(df.iterrows(), total=n):\n",
    "        img = cv2.imread(os.path.join(data_dir, \"train/%s.jpg\" % fname))\n",
    "        img = cv2.resize(img, (224, 224)) / 255.0\n",
    "        #img = mx.image.imread(os.path.join(data_dir, \"train/%s.jpg\"  %fname))\n",
    "        if (i == 0):\n",
    "            images = np.array([img])\n",
    "        else:\n",
    "            images = np.append(images, [img], axis=0)\n",
    "    mean = images.mean(axis=(0,1,2))\n",
    "    std = images.std(axis=(0,1,2))\n",
    "    return mean, std\n",
    "\n",
    "#mean = np.array([ 0.39186783, 0.45182955, 0.47607605])\n",
    "#std = np.array([ 0.26173923, 0.2573802, 0.26252426])\n",
    "\n",
    "mean = np.array([0.485, 0.456, 0.406])\n",
    "std = np.array([0.229, 0.224, 0.225])"
   ]
  },
  {
   "cell_type": "code",
   "execution_count": 13,
   "metadata": {
    "ExecuteTime": {
     "end_time": "2017-12-16T22:10:53.212762Z",
     "start_time": "2017-12-16T22:10:53.175033Z"
    }
   },
   "outputs": [],
   "source": [
    "first = False\n",
    "def load_train_data(df):\n",
    "    for i, (fname, breed) in tqdm(df.iterrows(), total=n):\n",
    "        img = cv2.imread(os.path.join(data_dir,'train/%s.jpg' % fname))\n",
    "        img_224 = ((cv2.resize(img, (224, 224))[:,:,::-1] / 255.0 - mean) / std).transpose((2, 0, 1))\n",
    "        img_299 = ((cv2.resize(img, (299, 299))[:,:,::-1] / 255.0 - mean) / std).transpose((2, 0, 1))\n",
    "        \n",
    "        X_224[int(i)] =  nd.array(img_224)\n",
    "        X_299[int(i)] = nd.array(img_299)\n",
    "        y[int(i)] = synset.index(breed)\n",
    "        nd.waitall()\n",
    "        \n",
    "if first:\n",
    "    df = pd.read_csv(os.path.join(data_dir,'labels.csv'))\n",
    "    synset = sorted(set(df['breed']))\n",
    "    n = len(df)\n",
    "    print(\"no of labels\", len(synset))\n",
    "    print(\"no of train data\", n)\n",
    "\n",
    "    X_224 = nd.zeros((n, 3, 224, 224))\n",
    "    X_299 = nd.zeros((n, 3, 299, 299))\n",
    "    y = nd.zeros((n,))\n",
    "    load_train_data(df)"
   ]
  },
  {
   "cell_type": "code",
   "execution_count": 14,
   "metadata": {
    "ExecuteTime": {
     "end_time": "2017-12-16T22:11:00.514136Z",
     "start_time": "2017-12-16T22:10:53.723543Z"
    }
   },
   "outputs": [],
   "source": [
    "if first:\n",
    "    nd.save(os.path.join(data_dir,'train.nd'), [X_224, X_299, y])\n",
    "    nd.save(os.path.join(data_dir, 'labels.nd'), y)\n",
    "else: \n",
    "    X_224, X_299, y = nd.load(os.path.join(data_dir,'train.nd'))\n",
    "    #y = nd.load(os.path.join(data_dir, 'labels.nd'))"
   ]
  },
  {
   "cell_type": "code",
   "execution_count": 15,
   "metadata": {
    "ExecuteTime": {
     "end_time": "2017-12-16T22:11:01.172534Z",
     "start_time": "2017-12-16T22:11:01.168798Z"
    }
   },
   "outputs": [
    {
     "name": "stdout",
     "output_type": "stream",
     "text": [
      "(10222, 3, 224, 224) (10222, 3, 299, 299) (10222,)\n"
     ]
    }
   ],
   "source": [
    "print(X_224.shape, X_299.shape, y.shape)"
   ]
  },
  {
   "cell_type": "code",
   "execution_count": 16,
   "metadata": {
    "ExecuteTime": {
     "end_time": "2017-12-16T22:11:02.035067Z",
     "start_time": "2017-12-16T22:11:02.010710Z"
    }
   },
   "outputs": [],
   "source": [
    "def load_test_data():\n",
    "    for i, fname in tqdm(enumerate(df_test['id']), total=n_test):\n",
    "        img = cv2.imread(os.path.join(data_dir,'test/%s.jpg' % fname))\n",
    "        img_224 = ((cv2.resize(img, (224, 224))[:,:,::-1] / 255.0 - mean) / std).transpose((2, 0, 1))\n",
    "        img_299 = ((cv2.resize(img, (299, 299))[:,:,::-1] / 255.0 - mean) / std).transpose((2, 0, 1))\n",
    "        \n",
    "        X_224_test[i] = nd.array(img_224)\n",
    "        X_299_test[i] = nd.array(img_299)\n",
    "        \n",
    "        nd.waitall()\n",
    "        \n",
    "if first:\n",
    "    df_test = pd.read_csv(os.path.join(data_dir, 'sample_submission.csv'))\n",
    "    n_test = len(df_test)\n",
    "    X_224_test = nd.zeros((n_test, 3, 224, 224))\n",
    "    X_299_test = nd.zeros((n_test, 3, 299, 299))\n",
    "    load_test_data()"
   ]
  },
  {
   "cell_type": "code",
   "execution_count": 17,
   "metadata": {
    "ExecuteTime": {
     "end_time": "2017-12-16T22:14:06.594959Z",
     "start_time": "2017-12-16T22:11:02.556729Z"
    }
   },
   "outputs": [],
   "source": [
    "if first:\n",
    "    nd.save(os.path.join(data_dir, 'test.nd'), [X_224_test, X_299_test])\n",
    "else:\n",
    "    X_224_test, X_299_test = nd.load(os.path.join(data_dir, 'test.nd'))"
   ]
  },
  {
   "cell_type": "code",
   "execution_count": 18,
   "metadata": {
    "ExecuteTime": {
     "end_time": "2017-12-16T22:14:06.599835Z",
     "start_time": "2017-12-16T22:14:06.596533Z"
    }
   },
   "outputs": [
    {
     "name": "stdout",
     "output_type": "stream",
     "text": [
      "(10357, 3, 224, 224) (10357, 3, 299, 299)\n"
     ]
    }
   ],
   "source": [
    "print(X_224_test.shape, X_299_test.shape)"
   ]
  },
  {
   "cell_type": "code",
   "execution_count": 19,
   "metadata": {
    "ExecuteTime": {
     "end_time": "2017-12-16T22:14:06.612634Z",
     "start_time": "2017-12-16T22:14:06.602235Z"
    }
   },
   "outputs": [],
   "source": [
    "def get_inceptionv3_features(data, ctx):\n",
    "    net = models.get_model(\"inceptionv3\", pretrained=True, ctx=ctx)\n",
    "    features_net = gluon.nn.HybridSequential()\n",
    "    with features_net.name_scope():\n",
    "        features_net.add(net.features)\n",
    "        features_net.add(net.classifier[0])\n",
    "        features_net.add(net.classifier[1])\n",
    "        features_net.add(net.classifier[2])\n",
    "    return features_net(data)"
   ]
  },
  {
   "cell_type": "code",
   "execution_count": 20,
   "metadata": {
    "ExecuteTime": {
     "end_time": "2017-12-16T22:14:06.685018Z",
     "start_time": "2017-12-16T22:14:06.614732Z"
    }
   },
   "outputs": [],
   "source": [
    "def save_features(model_name, data_train_iter, data_test_iter, ignore=False):\n",
    "    # 文件已存在\n",
    "    if os.path.exists(os.path.join(features_dir, 'features_train_%s.nd' % model_name)) and ignore:\n",
    "        if os.path.exists(os.path.join(features_dir, 'features_test_%s.nd' % model_name)):\n",
    "            return\n",
    "    \n",
    "    #print(\"loading\", model_name, \"cpu memory\", get_mem())\n",
    "    net = models.get_model(model_name, pretrained=True, ctx=ctx)\n",
    "    #print(\"loaded\", model_name, \"cpu memory\", get_mem())\n",
    "    \n",
    "    for prefix, data_iter in zip(['train', 'test'], [data_train_iter, data_test_iter]):\n",
    "        features = []\n",
    "        i = 0\n",
    "        start = time()\n",
    "        for data in tqdm(data_iter):\n",
    "            # 并行预测数据\n",
    "            if (i == 0):\n",
    "                print(model_name, prefix, \"data shape\", data[0].shape, data[1].shape)\n",
    "            for data_slice in gluon.utils.split_and_load(data[0], ctx, even_split=False):\n",
    "                if (model_name == \"inceptionv3\"):\n",
    "                    feature = get_inceptionv3_features(data_slice, ctx) \n",
    "                else:\n",
    "                    feature = net.features(data_slice)\n",
    "                if (i == 0):\n",
    "                    print(i, model_name, prefix, \"data slice\",  data_slice.shape)\n",
    "                    print(i, model_name, prefix, \"feature shape\",  feature.shape)\n",
    "                if model_name in {\"alexnet\", \"densenet121\", \"densenet169\"}:\n",
    "                    pass\n",
    "                else:\n",
    "                    #if 'squeezenet' in model_name:\n",
    "                    feature = gluon.nn.GlobalAvgPool2D()(feature)\n",
    "                feature = gluon.nn.Flatten()(feature)\n",
    "                if (i == 0):\n",
    "                    print(model_name, prefix, \"flatten feature shape\",  feature.shape)\n",
    "                features.append(feature.as_in_context(mx.cpu()))\n",
    "                i += 1\n",
    "            nd.waitall()\n",
    "        print(model_name, prefix, \"feature length\", len(features), \"time\", time() - start)\n",
    "        features = nd.concat(*features, dim=0)\n",
    "        print(model_name, prefix, \"final feature shape\", features.shape)\n",
    "        nd.save(os.path.join(root_dir, \"features\", 'features_%s_%s.nd') % (prefix, model_name), features)"
   ]
  },
  {
   "cell_type": "code",
   "execution_count": null,
   "metadata": {
    "ExecuteTime": {
     "start_time": "2017-12-16T22:11:10.754Z"
    }
   },
   "outputs": [
    {
     "name": "stdout",
     "output_type": "stream",
     "text": [
      "(10222, 3, 224, 224) (10222,)\n",
      "(10222, 3, 299, 299) (10222,)\n",
      "(10357, 3, 224, 224)\n",
      "(10357, 3, 299, 299)\n"
     ]
    }
   ],
   "source": [
    "batch_size = 128\n",
    "\n",
    "print(X_224.shape, y.shape)\n",
    "print(X_299.shape, y.shape)\n",
    "print(X_224_test.shape)\n",
    "print(X_299_test.shape)\n",
    "data_iter_224 = gluon.data.DataLoader(gluon.data.ArrayDataset(X_224, y), batch_size=batch_size, last_batch=\"keep\")\n",
    "data_iter_299 = gluon.data.DataLoader(gluon.data.ArrayDataset(X_299, y), batch_size=batch_size, last_batch=\"keep\")\n",
    "\n",
    "data_test_iter_224 = gluon.data.DataLoader(gluon.data.ArrayDataset(X_224_test, X_224_test), \n",
    "                                           batch_size=batch_size, last_batch=\"keep\")\n",
    "data_test_iter_299 = gluon.data.DataLoader(gluon.data.ArrayDataset(X_299_test, X_299_test), \n",
    "                                           batch_size=batch_size, last_batch=\"keep\")\n"
   ]
  },
  {
   "cell_type": "code",
   "execution_count": null,
   "metadata": {
    "ExecuteTime": {
     "start_time": "2017-12-16T22:11:11.756Z"
    }
   },
   "outputs": [
    {
     "name": "stdout",
     "output_type": "stream",
     "text": [
      "(128, 3, 224, 224) (128,)\n"
     ]
    }
   ],
   "source": [
    "# Sample test\n",
    "import itertools\n",
    "for data in itertools.islice(data_iter_224,2):\n",
    "    print(data[0].shape, data[1].shape)\n",
    "    for data_slice in gluon.utils.split_and_load(data[0], ctx, even_split=False):\n",
    "        print(\"data slice\", data_slice.shape)\n",
    "\n",
    "    \n",
    "data_iter_299_sample = itertools.islice(data_iter_299, 10)\n",
    "data_test_iter_299_sample = itertools.islice(data_test_iter_299, 10)\n",
    "data_iter_224_sample = itertools.islice(data_iter_224, 10)\n",
    "data_test_iter_224_sample = itertools.islice(data_test_iter_224, 10)\n",
    "#gluon.utils.split_and_load??"
   ]
  },
  {
   "cell_type": "code",
   "execution_count": null,
   "metadata": {
    "ExecuteTime": {
     "start_time": "2017-12-16T22:11:12.378Z"
    }
   },
   "outputs": [],
   "source": [
    "from mxnet.gluon.model_zoo.model_store import _model_sha1\n",
    "\n",
    "x_n, x_test_n, _, _  = (X_299.shape[0], X_299_test.shape[0], X_224.shape[0], X_224_test.shape[0])\n",
    "#x_n=x_test_n=1\n",
    "print(\"train\", x_n, \"test\", x_test_n)\n",
    "\n",
    "print(_model_sha1.keys())\n",
    "for model in sorted(_model_sha1.keys()):\n",
    "    if model == 'inceptionv3':\n",
    "        save_features(model, data_iter_299, data_test_iter_299, ignore= True)\n",
    "    else:\n",
    "        if model in {\"vgg11\", \"vgg11_bn\", \"vgg13\", \"vgg13_bn\", 'vgg16', 'vgg16_bn', 'vgg19', 'vgg19_bn', \n",
    "                     \"densenet161\", \"densenet201\" }:\n",
    "            #save_features(model, data_iter_224, data_test_iter_224, ignore=True)\n",
    "            pass\n",
    "        else:\n",
    "            save_features(model, data_iter_224, data_test_iter_224, ignore=True)"
   ]
  },
  {
   "cell_type": "code",
   "execution_count": 14,
   "metadata": {
    "ExecuteTime": {
     "end_time": "2017-11-25T18:15:52.329798Z",
     "start_time": "2017-11-25T18:15:52.327295Z"
    }
   },
   "outputs": [],
   "source": [
    "#get_mem()"
   ]
  },
  {
   "cell_type": "code",
   "execution_count": 11,
   "metadata": {
    "ExecuteTime": {
     "end_time": "2017-12-16T22:10:38.349513Z",
     "start_time": "2017-12-16T22:10:38.223321Z"
    }
   },
   "outputs": [
    {
     "name": "stdout",
     "output_type": "stream",
     "text": [
      "(1, 2, 1, 1)\n"
     ]
    },
    {
     "ename": "MXNetError",
     "evalue": "[22:10:38] src/operator/./pooling-inl.h:184: Check failed: dshape.ndim() >= 3U (2 vs. 3) Pooling: Input data should be  3D in (batch, channel, x) Or 4D in (batch, channel, y, x)  Or 5D in (batch, channel, d, y, x)\n\nStack trace returned 10 entries:\n[bt] (0) /home/ubuntu/miniconda3/envs/gluon/lib/python3.6/site-packages/mxnet/libmxnet.so(+0x26ae5c) [0x7f1145febe5c]\n[bt] (1) /home/ubuntu/miniconda3/envs/gluon/lib/python3.6/site-packages/mxnet/libmxnet.so(+0x252b8d1) [0x7f11482ac8d1]\n[bt] (2) /home/ubuntu/miniconda3/envs/gluon/lib/python3.6/site-packages/mxnet/libmxnet.so(+0x22f80e7) [0x7f11480790e7]\n[bt] (3) /home/ubuntu/miniconda3/envs/gluon/lib/python3.6/site-packages/mxnet/libmxnet.so(+0x214dbd2) [0x7f1147ecebd2]\n[bt] (4) /home/ubuntu/miniconda3/envs/gluon/lib/python3.6/site-packages/mxnet/libmxnet.so(+0x213a149) [0x7f1147ebb149]\n[bt] (5) /home/ubuntu/miniconda3/envs/gluon/lib/python3.6/site-packages/mxnet/libmxnet.so(+0x2090721) [0x7f1147e11721]\n[bt] (6) /home/ubuntu/miniconda3/envs/gluon/lib/python3.6/site-packages/mxnet/libmxnet.so(MXImperativeInvokeEx+0x63) [0x7f1147e11ac3]\n[bt] (7) /home/ubuntu/miniconda3/envs/gluon/lib/python3.6/lib-dynload/../../libffi.so.6(ffi_call_unix64+0x4c) [0x7f1181167ec0]\n[bt] (8) /home/ubuntu/miniconda3/envs/gluon/lib/python3.6/lib-dynload/../../libffi.so.6(ffi_call+0x22d) [0x7f118116787d]\n[bt] (9) /home/ubuntu/miniconda3/envs/gluon/lib/python3.6/lib-dynload/_ctypes.cpython-36m-x86_64-linux-gnu.so(_ctypes_callproc+0x2ce) [0x7f118137cb9e]\n",
     "output_type": "error",
     "traceback": [
      "\u001b[0;31m---------------------------------------------------------------------------\u001b[0m",
      "\u001b[0;31mMXNetError\u001b[0m                                Traceback (most recent call last)",
      "\u001b[0;32m<ipython-input-11-8d484e713f07>\u001b[0m in \u001b[0;36m<module>\u001b[0;34m()\u001b[0m\n\u001b[1;32m      4\u001b[0m \u001b[0;34m\u001b[0m\u001b[0m\n\u001b[1;32m      5\u001b[0m \u001b[0mdata2\u001b[0m \u001b[0;34m=\u001b[0m \u001b[0mnd\u001b[0m\u001b[0;34m.\u001b[0m\u001b[0marange\u001b[0m\u001b[0;34m(\u001b[0m\u001b[0;36m18\u001b[0m\u001b[0;34m)\u001b[0m\u001b[0;34m.\u001b[0m\u001b[0mreshape\u001b[0m\u001b[0;34m(\u001b[0m\u001b[0;34m(\u001b[0m\u001b[0;36m1\u001b[0m\u001b[0;34m,\u001b[0m\u001b[0;36m18\u001b[0m\u001b[0;34m)\u001b[0m\u001b[0;34m)\u001b[0m\u001b[0;34m\u001b[0m\u001b[0m\n\u001b[0;32m----> 6\u001b[0;31m \u001b[0mdata3\u001b[0m \u001b[0;34m=\u001b[0m \u001b[0mgluon\u001b[0m\u001b[0;34m.\u001b[0m\u001b[0mnn\u001b[0m\u001b[0;34m.\u001b[0m\u001b[0mGlobalAvgPool2D\u001b[0m\u001b[0;34m(\u001b[0m\u001b[0;34m)\u001b[0m\u001b[0;34m(\u001b[0m\u001b[0mdata2\u001b[0m\u001b[0;34m)\u001b[0m\u001b[0;34m\u001b[0m\u001b[0m\n\u001b[0m\u001b[1;32m      7\u001b[0m \u001b[0mprint\u001b[0m\u001b[0;34m(\u001b[0m\u001b[0mdata3\u001b[0m\u001b[0;34m.\u001b[0m\u001b[0mshape\u001b[0m\u001b[0;34m)\u001b[0m\u001b[0;34m\u001b[0m\u001b[0m\n",
      "\u001b[0;32m~/miniconda3/envs/gluon/lib/python3.6/site-packages/mxnet/gluon/block.py\u001b[0m in \u001b[0;36m__call__\u001b[0;34m(self, *args)\u001b[0m\n\u001b[1;32m    288\u001b[0m     \u001b[0;32mdef\u001b[0m \u001b[0m__call__\u001b[0m\u001b[0;34m(\u001b[0m\u001b[0mself\u001b[0m\u001b[0;34m,\u001b[0m \u001b[0;34m*\u001b[0m\u001b[0margs\u001b[0m\u001b[0;34m)\u001b[0m\u001b[0;34m:\u001b[0m\u001b[0;34m\u001b[0m\u001b[0m\n\u001b[1;32m    289\u001b[0m         \u001b[0;34m\"\"\"Calls forward. Only accepts positional arguments.\"\"\"\u001b[0m\u001b[0;34m\u001b[0m\u001b[0m\n\u001b[0;32m--> 290\u001b[0;31m         \u001b[0;32mreturn\u001b[0m \u001b[0mself\u001b[0m\u001b[0;34m.\u001b[0m\u001b[0mforward\u001b[0m\u001b[0;34m(\u001b[0m\u001b[0;34m*\u001b[0m\u001b[0margs\u001b[0m\u001b[0;34m)\u001b[0m\u001b[0;34m\u001b[0m\u001b[0m\n\u001b[0m\u001b[1;32m    291\u001b[0m \u001b[0;34m\u001b[0m\u001b[0m\n\u001b[1;32m    292\u001b[0m     \u001b[0;32mdef\u001b[0m \u001b[0mforward\u001b[0m\u001b[0;34m(\u001b[0m\u001b[0mself\u001b[0m\u001b[0;34m,\u001b[0m \u001b[0;34m*\u001b[0m\u001b[0margs\u001b[0m\u001b[0;34m)\u001b[0m\u001b[0;34m:\u001b[0m\u001b[0;34m\u001b[0m\u001b[0m\n",
      "\u001b[0;32m~/miniconda3/envs/gluon/lib/python3.6/site-packages/mxnet/gluon/block.py\u001b[0m in \u001b[0;36mforward\u001b[0;34m(self, x, *args)\u001b[0m\n\u001b[1;32m    472\u001b[0m                         \u001b[0mi\u001b[0m\u001b[0;34m.\u001b[0m\u001b[0m_finish_deferred_init\u001b[0m\u001b[0;34m(\u001b[0m\u001b[0;34m)\u001b[0m\u001b[0;34m\u001b[0m\u001b[0m\n\u001b[1;32m    473\u001b[0m                     \u001b[0mparams\u001b[0m \u001b[0;34m=\u001b[0m \u001b[0;34m{\u001b[0m\u001b[0mi\u001b[0m\u001b[0;34m:\u001b[0m \u001b[0mj\u001b[0m\u001b[0;34m.\u001b[0m\u001b[0mdata\u001b[0m\u001b[0;34m(\u001b[0m\u001b[0mctx\u001b[0m\u001b[0;34m)\u001b[0m \u001b[0;32mfor\u001b[0m \u001b[0mi\u001b[0m\u001b[0;34m,\u001b[0m \u001b[0mj\u001b[0m \u001b[0;32min\u001b[0m \u001b[0mself\u001b[0m\u001b[0;34m.\u001b[0m\u001b[0m_reg_params\u001b[0m\u001b[0;34m.\u001b[0m\u001b[0mitems\u001b[0m\u001b[0;34m(\u001b[0m\u001b[0;34m)\u001b[0m\u001b[0;34m}\u001b[0m\u001b[0;34m\u001b[0m\u001b[0m\n\u001b[0;32m--> 474\u001b[0;31m                 \u001b[0;32mreturn\u001b[0m \u001b[0mself\u001b[0m\u001b[0;34m.\u001b[0m\u001b[0mhybrid_forward\u001b[0m\u001b[0;34m(\u001b[0m\u001b[0mndarray\u001b[0m\u001b[0;34m,\u001b[0m \u001b[0mx\u001b[0m\u001b[0;34m,\u001b[0m \u001b[0;34m*\u001b[0m\u001b[0margs\u001b[0m\u001b[0;34m,\u001b[0m \u001b[0;34m**\u001b[0m\u001b[0mparams\u001b[0m\u001b[0;34m)\u001b[0m\u001b[0;34m\u001b[0m\u001b[0m\n\u001b[0m\u001b[1;32m    475\u001b[0m \u001b[0;34m\u001b[0m\u001b[0m\n\u001b[1;32m    476\u001b[0m         \u001b[0;32massert\u001b[0m \u001b[0misinstance\u001b[0m\u001b[0;34m(\u001b[0m\u001b[0mx\u001b[0m\u001b[0;34m,\u001b[0m \u001b[0mSymbol\u001b[0m\u001b[0;34m)\u001b[0m\u001b[0;34m,\u001b[0m\u001b[0;31m \u001b[0m\u001b[0;31m\\\u001b[0m\u001b[0;34m\u001b[0m\u001b[0m\n",
      "\u001b[0;32m~/miniconda3/envs/gluon/lib/python3.6/site-packages/mxnet/gluon/nn/conv_layers.py\u001b[0m in \u001b[0;36mhybrid_forward\u001b[0;34m(self, F, x)\u001b[0m\n\u001b[1;32m    671\u001b[0m \u001b[0;34m\u001b[0m\u001b[0m\n\u001b[1;32m    672\u001b[0m     \u001b[0;32mdef\u001b[0m \u001b[0mhybrid_forward\u001b[0m\u001b[0;34m(\u001b[0m\u001b[0mself\u001b[0m\u001b[0;34m,\u001b[0m \u001b[0mF\u001b[0m\u001b[0;34m,\u001b[0m \u001b[0mx\u001b[0m\u001b[0;34m)\u001b[0m\u001b[0;34m:\u001b[0m\u001b[0;34m\u001b[0m\u001b[0m\n\u001b[0;32m--> 673\u001b[0;31m         \u001b[0;32mreturn\u001b[0m \u001b[0mF\u001b[0m\u001b[0;34m.\u001b[0m\u001b[0mPooling\u001b[0m\u001b[0;34m(\u001b[0m\u001b[0mx\u001b[0m\u001b[0;34m,\u001b[0m \u001b[0mname\u001b[0m\u001b[0;34m=\u001b[0m\u001b[0;34m'fwd'\u001b[0m\u001b[0;34m,\u001b[0m \u001b[0;34m**\u001b[0m\u001b[0mself\u001b[0m\u001b[0;34m.\u001b[0m\u001b[0m_kwargs\u001b[0m\u001b[0;34m)\u001b[0m\u001b[0;34m\u001b[0m\u001b[0m\n\u001b[0m\u001b[1;32m    674\u001b[0m \u001b[0;34m\u001b[0m\u001b[0m\n\u001b[1;32m    675\u001b[0m     \u001b[0;32mdef\u001b[0m \u001b[0m__repr__\u001b[0m\u001b[0;34m(\u001b[0m\u001b[0mself\u001b[0m\u001b[0;34m)\u001b[0m\u001b[0;34m:\u001b[0m\u001b[0;34m\u001b[0m\u001b[0m\n",
      "\u001b[0;32m~/miniconda3/envs/gluon/lib/python3.6/site-packages/mxnet/ndarray/register.py\u001b[0m in \u001b[0;36mPooling\u001b[0;34m(data, global_pool, cudnn_off, kernel, pool_type, pooling_convention, stride, pad, out, name, **kwargs)\u001b[0m\n",
      "\u001b[0;32m~/miniconda3/envs/gluon/lib/python3.6/site-packages/mxnet/_ctypes/ndarray.py\u001b[0m in \u001b[0;36m_imperative_invoke\u001b[0;34m(handle, ndargs, keys, vals, out)\u001b[0m\n\u001b[1;32m     90\u001b[0m         \u001b[0mc_array\u001b[0m\u001b[0;34m(\u001b[0m\u001b[0mctypes\u001b[0m\u001b[0;34m.\u001b[0m\u001b[0mc_char_p\u001b[0m\u001b[0;34m,\u001b[0m \u001b[0;34m[\u001b[0m\u001b[0mc_str\u001b[0m\u001b[0;34m(\u001b[0m\u001b[0mkey\u001b[0m\u001b[0;34m)\u001b[0m \u001b[0;32mfor\u001b[0m \u001b[0mkey\u001b[0m \u001b[0;32min\u001b[0m \u001b[0mkeys\u001b[0m\u001b[0;34m]\u001b[0m\u001b[0;34m)\u001b[0m\u001b[0;34m,\u001b[0m\u001b[0;34m\u001b[0m\u001b[0m\n\u001b[1;32m     91\u001b[0m         \u001b[0mc_array\u001b[0m\u001b[0;34m(\u001b[0m\u001b[0mctypes\u001b[0m\u001b[0;34m.\u001b[0m\u001b[0mc_char_p\u001b[0m\u001b[0;34m,\u001b[0m \u001b[0;34m[\u001b[0m\u001b[0mc_str\u001b[0m\u001b[0;34m(\u001b[0m\u001b[0mstr\u001b[0m\u001b[0;34m(\u001b[0m\u001b[0mval\u001b[0m\u001b[0;34m)\u001b[0m\u001b[0;34m)\u001b[0m \u001b[0;32mfor\u001b[0m \u001b[0mval\u001b[0m \u001b[0;32min\u001b[0m \u001b[0mvals\u001b[0m\u001b[0;34m]\u001b[0m\u001b[0;34m)\u001b[0m\u001b[0;34m,\u001b[0m\u001b[0;34m\u001b[0m\u001b[0m\n\u001b[0;32m---> 92\u001b[0;31m         ctypes.byref(out_stypes)))\n\u001b[0m\u001b[1;32m     93\u001b[0m \u001b[0;34m\u001b[0m\u001b[0m\n\u001b[1;32m     94\u001b[0m     \u001b[0;32mif\u001b[0m \u001b[0moriginal_output\u001b[0m \u001b[0;32mis\u001b[0m \u001b[0;32mnot\u001b[0m \u001b[0;32mNone\u001b[0m\u001b[0;34m:\u001b[0m\u001b[0;34m\u001b[0m\u001b[0m\n",
      "\u001b[0;32m~/miniconda3/envs/gluon/lib/python3.6/site-packages/mxnet/base.py\u001b[0m in \u001b[0;36mcheck_call\u001b[0;34m(ret)\u001b[0m\n\u001b[1;32m    144\u001b[0m     \"\"\"\n\u001b[1;32m    145\u001b[0m     \u001b[0;32mif\u001b[0m \u001b[0mret\u001b[0m \u001b[0;34m!=\u001b[0m \u001b[0;36m0\u001b[0m\u001b[0;34m:\u001b[0m\u001b[0;34m\u001b[0m\u001b[0m\n\u001b[0;32m--> 146\u001b[0;31m         \u001b[0;32mraise\u001b[0m \u001b[0mMXNetError\u001b[0m\u001b[0;34m(\u001b[0m\u001b[0mpy_str\u001b[0m\u001b[0;34m(\u001b[0m\u001b[0m_LIB\u001b[0m\u001b[0;34m.\u001b[0m\u001b[0mMXGetLastError\u001b[0m\u001b[0;34m(\u001b[0m\u001b[0;34m)\u001b[0m\u001b[0;34m)\u001b[0m\u001b[0;34m)\u001b[0m\u001b[0;34m\u001b[0m\u001b[0m\n\u001b[0m\u001b[1;32m    147\u001b[0m \u001b[0;34m\u001b[0m\u001b[0m\n\u001b[1;32m    148\u001b[0m \u001b[0;32mif\u001b[0m \u001b[0msys\u001b[0m\u001b[0;34m.\u001b[0m\u001b[0mversion_info\u001b[0m\u001b[0;34m[\u001b[0m\u001b[0;36m0\u001b[0m\u001b[0;34m]\u001b[0m \u001b[0;34m<\u001b[0m \u001b[0;36m3\u001b[0m\u001b[0;34m:\u001b[0m\u001b[0;34m\u001b[0m\u001b[0m\n",
      "\u001b[0;31mMXNetError\u001b[0m: [22:10:38] src/operator/./pooling-inl.h:184: Check failed: dshape.ndim() >= 3U (2 vs. 3) Pooling: Input data should be  3D in (batch, channel, x) Or 4D in (batch, channel, y, x)  Or 5D in (batch, channel, d, y, x)\n\nStack trace returned 10 entries:\n[bt] (0) /home/ubuntu/miniconda3/envs/gluon/lib/python3.6/site-packages/mxnet/libmxnet.so(+0x26ae5c) [0x7f1145febe5c]\n[bt] (1) /home/ubuntu/miniconda3/envs/gluon/lib/python3.6/site-packages/mxnet/libmxnet.so(+0x252b8d1) [0x7f11482ac8d1]\n[bt] (2) /home/ubuntu/miniconda3/envs/gluon/lib/python3.6/site-packages/mxnet/libmxnet.so(+0x22f80e7) [0x7f11480790e7]\n[bt] (3) /home/ubuntu/miniconda3/envs/gluon/lib/python3.6/site-packages/mxnet/libmxnet.so(+0x214dbd2) [0x7f1147ecebd2]\n[bt] (4) /home/ubuntu/miniconda3/envs/gluon/lib/python3.6/site-packages/mxnet/libmxnet.so(+0x213a149) [0x7f1147ebb149]\n[bt] (5) /home/ubuntu/miniconda3/envs/gluon/lib/python3.6/site-packages/mxnet/libmxnet.so(+0x2090721) [0x7f1147e11721]\n[bt] (6) /home/ubuntu/miniconda3/envs/gluon/lib/python3.6/site-packages/mxnet/libmxnet.so(MXImperativeInvokeEx+0x63) [0x7f1147e11ac3]\n[bt] (7) /home/ubuntu/miniconda3/envs/gluon/lib/python3.6/lib-dynload/../../libffi.so.6(ffi_call_unix64+0x4c) [0x7f1181167ec0]\n[bt] (8) /home/ubuntu/miniconda3/envs/gluon/lib/python3.6/lib-dynload/../../libffi.so.6(ffi_call+0x22d) [0x7f118116787d]\n[bt] (9) /home/ubuntu/miniconda3/envs/gluon/lib/python3.6/lib-dynload/_ctypes.cpython-36m-x86_64-linux-gnu.so(_ctypes_callproc+0x2ce) [0x7f118137cb9e]\n"
     ]
    }
   ],
   "source": [
    "data = nd.arange(18).reshape((1,2,3,3))\n",
    "data1 = gluon.nn.GlobalAvgPool2D()(data)\n",
    "print(data1.shape)\n",
    "\n",
    "data2 = nd.arange(18).reshape((1,18))\n",
    "data3 = gluon.nn.GlobalAvgPool2D()(data2)\n",
    "print(data3.shape)"
   ]
  },
  {
   "cell_type": "code",
   "execution_count": null,
   "metadata": {},
   "outputs": [],
   "source": []
  }
 ],
 "metadata": {
  "kernelspec": {
   "display_name": "Python 3",
   "language": "python",
   "name": "python3"
  },
  "language_info": {
   "codemirror_mode": {
    "name": "ipython",
    "version": 3
   },
   "file_extension": ".py",
   "mimetype": "text/x-python",
   "name": "python",
   "nbconvert_exporter": "python",
   "pygments_lexer": "ipython3",
   "version": "3.6.3"
  }
 },
 "nbformat": 4,
 "nbformat_minor": 2
}
